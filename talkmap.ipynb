{
 "cells": [
  {
   "cell_type": "markdown",
   "metadata": {},
   "source": [
    "# Leaflet cluster map of talk locations\n",
    "\n",
    "Run this from the _talks/ directory, which contains .md files of all your talks. This scrapes the location YAML field from each .md file, geolocates it with geopy/Nominatim, and uses the getorg library to output data, HTML, and Javascript for a standalone cluster map."
   ]
  },
  {
   "cell_type": "code",
   "execution_count": 1,
   "metadata": {},
   "outputs": [
    {
     "name": "stdout",
     "output_type": "stream",
     "text": [
      "Collecting getorg\n",
      "  Downloading getorg-0.3.1-py2.py3-none-any.whl (39 kB)\n",
      "Collecting retrying\n",
      "  Using cached retrying-1.3.3.tar.gz (10 kB)\n",
      "Collecting pygithub\n",
      "  Downloading PyGithub-1.53-py3-none-any.whl (274 kB)\n",
      "\u001b[K     |████████████████████████████████| 274 kB 6.3 MB/s eta 0:00:01\n",
      "\u001b[?25hCollecting geopy\n",
      "  Downloading geopy-2.0.0-py3-none-any.whl (111 kB)\n",
      "\u001b[K     |████████████████████████████████| 111 kB 9.2 MB/s eta 0:00:01\n",
      "\u001b[?25hRequirement already satisfied, skipping upgrade: six>=1.7.0 in /Users/tobias/opt/anaconda3/lib/python3.7/site-packages (from retrying->getorg) (1.14.0)\n",
      "Collecting deprecated\n",
      "  Downloading Deprecated-1.2.10-py2.py3-none-any.whl (8.7 kB)\n",
      "Requirement already satisfied, skipping upgrade: requests>=2.14.0 in /Users/tobias/opt/anaconda3/lib/python3.7/site-packages (from pygithub->getorg) (2.23.0)\n",
      "Collecting pyjwt\n",
      "  Downloading PyJWT-1.7.1-py2.py3-none-any.whl (18 kB)\n",
      "Collecting geographiclib<2,>=1.49\n",
      "  Downloading geographiclib-1.50-py3-none-any.whl (38 kB)\n",
      "Requirement already satisfied, skipping upgrade: wrapt<2,>=1.10 in /Users/tobias/opt/anaconda3/lib/python3.7/site-packages (from deprecated->pygithub->getorg) (1.11.2)\n",
      "Requirement already satisfied, skipping upgrade: certifi>=2017.4.17 in /Users/tobias/opt/anaconda3/lib/python3.7/site-packages (from requests>=2.14.0->pygithub->getorg) (2020.4.5.1)\n",
      "Requirement already satisfied, skipping upgrade: idna<3,>=2.5 in /Users/tobias/opt/anaconda3/lib/python3.7/site-packages (from requests>=2.14.0->pygithub->getorg) (2.9)\n",
      "Requirement already satisfied, skipping upgrade: urllib3!=1.25.0,!=1.25.1,<1.26,>=1.21.1 in /Users/tobias/opt/anaconda3/lib/python3.7/site-packages (from requests>=2.14.0->pygithub->getorg) (1.25.9)\n",
      "Requirement already satisfied, skipping upgrade: chardet<4,>=3.0.2 in /Users/tobias/opt/anaconda3/lib/python3.7/site-packages (from requests>=2.14.0->pygithub->getorg) (3.0.4)\n",
      "Building wheels for collected packages: retrying\n",
      "  Building wheel for retrying (setup.py) ... \u001b[?25ldone\n",
      "\u001b[?25h  Created wheel for retrying: filename=retrying-1.3.3-py3-none-any.whl size=11430 sha256=da9fd0388141e386c3e054ad453461c6daea75e5b3513f78a0d7379af586ec9b\n",
      "  Stored in directory: /Users/tobias/Library/Caches/pip/wheels/f9/8d/8d/f6af3f7f9eea3553bc2fe6d53e4b287dad18b06a861ac56ddf\n",
      "Successfully built retrying\n",
      "Installing collected packages: retrying, deprecated, pyjwt, pygithub, geographiclib, geopy, getorg\n",
      "Successfully installed deprecated-1.2.10 geographiclib-1.50 geopy-2.0.0 getorg-0.3.1 pygithub-1.53 pyjwt-1.7.1 retrying-1.3.3\n",
      "Iywidgets and ipyleaflet support disabled. You must be in a Jupyter notebook to use this feature.\n",
      "Error raised:\n",
      "No module named 'ipyleaflet'\n",
      "Check that you have enabled ipyleaflet in Jupyter with:\n",
      "    jupyter nbextension enable --py ipyleaflet\n"
     ]
    }
   ],
   "source": [
    "!pip install getorg --upgrade\n",
    "import glob\n",
    "import getorg\n",
    "from geopy import Nominatim"
   ]
  },
  {
   "cell_type": "code",
   "execution_count": 4,
   "metadata": {},
   "outputs": [],
   "source": [
    "g = glob.glob(\"./_talks/*.md\")"
   ]
  },
  {
   "cell_type": "code",
   "execution_count": 12,
   "metadata": {},
   "outputs": [],
   "source": [
    "geocoder = Nominatim(user_agent=\"http\")\n",
    "location_dict = {}\n",
    "location = \"\"\n",
    "permalink = \"\"\n",
    "title = \"\""
   ]
  },
  {
   "cell_type": "code",
   "execution_count": 13,
   "metadata": {},
   "outputs": [
    {
     "name": "stdout",
     "output_type": "stream",
     "text": [
      "Gothenburg, Sweden \n",
      " Göteborg, Göteborgs Stad, Västra Götalands län, Götaland, 41106, Sverige\n",
      "Gothenburg, Sweden \n",
      " Göteborg, Göteborgs Stad, Västra Götalands län, Götaland, 41106, Sverige\n",
      "Manaus, Brazil \n",
      " Manaus, Microrregião de Manaus, Região Geográfica Intermediária de Manaus, Amazonas, Região Norte, 69000-000, Brasil\n",
      "Paris, France \n",
      " Paris, Île-de-France, France métropolitaine, France\n",
      "Bergen, Norway \n",
      " Bergen, Vestland, Norge\n",
      "Trondheim, Norway \n",
      " Trondheim, Trøndelag, Norge\n",
      "London, UK \n",
      " London, Greater London, England, United Kingdom\n",
      "Tjärnö, Sweden \n",
      " Tjärnö, Strömstads kommun, Västra Götalands län, Götaland, Sverige\n",
      "Cambridge, USA \n",
      " Cambridge, Middlesex County, Massachusetts, United States of America\n",
      "Tromsø, Norway \n",
      " Tromsø, Troms og Finnmark, Norge\n",
      "St Louis, USA \n",
      " Saint Louis, City of Saint Louis, Missouri, 63102-1102, United States of America\n",
      "Gothenburg, Sweden \n",
      " Göteborg, Göteborgs Stad, Västra Götalands län, Götaland, 41106, Sverige\n",
      "Gothenburg, Sweden \n",
      " Göteborg, Göteborgs Stad, Västra Götalands län, Götaland, 41106, Sverige\n",
      "Stockholm, Sweden \n",
      " Stockholm, Stockholms kommun, Stockholms län, Svealand, 111 29, Sverige\n",
      "Vienna, Austria \n",
      " Wien, Österreich\n",
      "Gothenburg, Sweden \n",
      " Göteborg, Göteborgs Stad, Västra Götalands län, Götaland, 41106, Sverige\n",
      "Gothenburg, Sweden \n",
      " Göteborg, Göteborgs Stad, Västra Götalands län, Götaland, 41106, Sverige\n"
     ]
    }
   ],
   "source": [
    "\n",
    "for file in g:\n",
    "    with open(file, 'r') as f:\n",
    "        lines = f.read()\n",
    "        if lines.find('location: \"') > 1:\n",
    "            loc_start = lines.find('location: \"') + 11\n",
    "            lines_trim = lines[loc_start:]\n",
    "            loc_end = lines_trim.find('\"')\n",
    "            location = lines_trim[:loc_end]\n",
    "                            \n",
    "           \n",
    "        location_dict[location] = geocoder.geocode(location)\n",
    "        print(location, \"\\n\", location_dict[location])\n"
   ]
  },
  {
   "cell_type": "code",
   "execution_count": 14,
   "metadata": {},
   "outputs": [
    {
     "data": {
      "text/plain": [
       "'Written map to ../talkmap/'"
      ]
     },
     "execution_count": 14,
     "metadata": {},
     "output_type": "execute_result"
    }
   ],
   "source": [
    "m = getorg.orgmap.create_map_obj()\n",
    "getorg.orgmap.output_html_cluster_map(location_dict, folder_name=\"../talkmap\", hashed_usernames=False)"
   ]
  },
  {
   "cell_type": "code",
   "execution_count": null,
   "metadata": {
    "collapsed": true
   },
   "outputs": [],
   "source": []
  }
 ],
 "metadata": {
  "anaconda-cloud": {},
  "kernelspec": {
   "display_name": "Python 3",
   "language": "python",
   "name": "python3"
  },
  "language_info": {
   "codemirror_mode": {
    "name": "ipython",
    "version": 3
   },
   "file_extension": ".py",
   "mimetype": "text/x-python",
   "name": "python",
   "nbconvert_exporter": "python",
   "pygments_lexer": "ipython3",
   "version": "3.7.4"
  }
 },
 "nbformat": 4,
 "nbformat_minor": 1
}
